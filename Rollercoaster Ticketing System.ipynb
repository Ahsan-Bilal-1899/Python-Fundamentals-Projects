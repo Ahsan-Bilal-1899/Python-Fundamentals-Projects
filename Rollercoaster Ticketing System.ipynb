{
 "cells": [
  {
   "cell_type": "code",
   "execution_count": null,
   "id": "1d7020f7",
   "metadata": {},
   "outputs": [],
   "source": [
    "print(\"Welcome to the rollercoaster ride!\")\n",
    "height = int(input(\"How tall are you in cm?\\n\"))\n",
    "\n",
    "if height >= 120:\n",
    "  print(\"You are tall enough to ride!\")\n",
    "  \n",
    "  bill = 0\n",
    "  age = int(input(\"How old are you?\\n\"))\n",
    "  if age < 12:\n",
    "    print(\"Child rides cost $5.\")\n",
    "    bill += 5\n",
    "  elif age <= 18:\n",
    "    print(\"Youth rides cost $7.\")\n",
    "    bill += 7\n",
    "  else:\n",
    "    print(\"Adult rides cost $12.\")\n",
    "    bill += 12\n",
    "\n",
    "  wants_photo = input(\"Do you want a photo or no? Y or N.\\n\")\n",
    "  if wants_photo == \"Y\":\n",
    "    print(\"A photo costs $3.\")\n",
    "    bill +=3\n",
    "\n",
    "  print(f\"Your total bill is ${bill}.\")\n",
    "\n",
    "else:\n",
    "  print(\"Sorry. You are not tall enough to ride.\")"
   ]
  }
 ],
 "metadata": {
  "kernelspec": {
   "display_name": "Python 3 (ipykernel)",
   "language": "python",
   "name": "python3"
  },
  "language_info": {
   "codemirror_mode": {
    "name": "ipython",
    "version": 3
   },
   "file_extension": ".py",
   "mimetype": "text/x-python",
   "name": "python",
   "nbconvert_exporter": "python",
   "pygments_lexer": "ipython3",
   "version": "3.9.12"
  }
 },
 "nbformat": 4,
 "nbformat_minor": 5
}
