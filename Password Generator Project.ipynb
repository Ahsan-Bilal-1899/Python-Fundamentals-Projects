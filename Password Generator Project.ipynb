{
 "cells": [
  {
   "cell_type": "code",
   "execution_count": 15,
   "id": "a8190daa",
   "metadata": {},
   "outputs": [],
   "source": [
    "import random\n",
    "#Importing the random library allows us to generate random integers from a range, a random character from a list and much more.\n",
    "\n",
    "letters = [\n",
    "'a', 'b', 'c', 'd', 'e', 'f', 'g', 'h', 'i', 'j', 'k', 'l', 'm', 'n', 'o', 'p', 'q', 'r', 's', 't', 'u', 'v', 'w', 'x', 'y', 'z', \n",
    "'A', 'B', 'C', 'D', 'E', 'F', 'G', 'H', 'I', 'J', 'K', 'L', 'M', 'N', 'O', 'P', 'Q', 'R', 'S', 'T', 'U', 'V', 'W', 'X', 'Y', 'Z'\n",
    "]\n",
    "\n",
    "numbers = ['0', '1', '2', '3', '4', '5', '6', '7', '8', '9']\n",
    "symbols = ['!', '#', '$', '%', '&', '(', ')', '*', '+']\n",
    "\n",
    "#We create 3 different lists which contain all possible characters that can be found in a password. \n",
    "#Lists divided into letters, numbers and symbols\n"
   ]
  },
  {
   "cell_type": "code",
   "execution_count": 16,
   "id": "3903ba5a",
   "metadata": {},
   "outputs": [],
   "source": [
    "print(\"Welcome to the Password Generator!\")\n",
    "no_of_letters = int(input(\"How many letters would you like?\\n\"))\n",
    "no_of_numbers = int(input(\"How many numbers would you like?\\n\"))     \n",
    "no_of_symbols = int(input(\"How many symbols would you like?\\n\")) \n",
    "\n",
    "#The print statement describes the first output the user sees which welcomes them to the generator.\n",
    "#The three input statements formulate a requirement for users to enter the desired number of characters they want in the password.\n"
   ]
  },
  {
   "cell_type": "code",
   "execution_count": 17,
   "id": "55f34456",
   "metadata": {},
   "outputs": [],
   "source": [
    "password_list = []\n",
    "#We create an empty list where our created password can first be stored.\n",
    "\n",
    "for char in range(1, no_of_letters + 1):\n",
    "  random_letters = random.choice(letters)\n",
    "  password_list.append(random_letters)\n",
    "\n",
    "for char in range(1, no_of_numbers + 1):\n",
    "  random_numbers = random.choice(numbers)\n",
    "  password_list.append(random_numbers)\n",
    "\n",
    "for char in range(1, no_of_symbols + 1):\n",
    "  random_symbols = random.choice(symbols)\n",
    "  password_list.append(random_symbols)\n",
    "    \n",
    "#We use a for loop that allows us to go through all the characters according to user input.\n",
    "#A random character from each created list is taken and is added to the newly created list called password_list.\n",
    "    "
   ]
  },
  {
   "cell_type": "code",
   "execution_count": 18,
   "id": "742fcfb1",
   "metadata": {},
   "outputs": [],
   "source": [
    "random.shuffle(password_list)\n",
    "password = \"\".join(password_list)\n",
    "\n",
    "#When all random characters are appended in the new list, we shuffle them so the order of numbers, letters and symbols is jumbled.\n",
    "#This gives a unique password that is even harder to crack."
   ]
  },
  {
   "cell_type": "code",
   "execution_count": 19,
   "id": "56095f3f",
   "metadata": {},
   "outputs": [],
   "source": [
    "print(f\"Your password could be {password}\")\n",
    "\n",
    "#Using a f-string in the print statement means we do not have to worry about the different data type conversions. "
   ]
  }
 ],
 "metadata": {
  "kernelspec": {
   "display_name": "Python 3 (ipykernel)",
   "language": "python",
   "name": "python3"
  },
  "language_info": {
   "codemirror_mode": {
    "name": "ipython",
    "version": 3
   },
   "file_extension": ".py",
   "mimetype": "text/x-python",
   "name": "python",
   "nbconvert_exporter": "python",
   "pygments_lexer": "ipython3",
   "version": "3.9.12"
  }
 },
 "nbformat": 4,
 "nbformat_minor": 5
}
