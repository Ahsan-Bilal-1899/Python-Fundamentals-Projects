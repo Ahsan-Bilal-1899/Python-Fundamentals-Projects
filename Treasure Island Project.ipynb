{
 "cells": [
  {
   "cell_type": "code",
   "execution_count": null,
   "id": "094831d6",
   "metadata": {},
   "outputs": [],
   "source": [
    "print('''\n",
    "    __________________\n",
    "    .-'  \\ _.-''-._ /  '-.\n",
    "  .-/\\   .'.      .'.   /\\-.\n",
    " _'/  \\.'   '.  .'   './  \\'_\n",
    ":======:======::======:======:  \n",
    " '. '.  \\     ''     /  .' .'\n",
    "   '. .  \\   :  :   /  . .'\n",
    "     '.'  \\  '  '  /  '.'\n",
    "       ':  \\:    :/  :'\n",
    "         '. \\    / .'\n",
    "           '.\\  /.'    \n",
    "             '\\/'\n",
    "      ''')\n",
    "print(\"Welcome Greendale Human Being, to the Land of Hawkthorne. Your mission is to find the white crystal.\")\n",
    "\n",
    "#We use ASCII art to print the crystal that players have to find. It gives the program a visual appeal."
   ]
  },
  {
   "cell_type": "code",
   "execution_count": null,
   "id": "4f3c1c03",
   "metadata": {},
   "outputs": [],
   "source": [
    "direction = input(\"Do you want to turn left or right? Type L for left or R for Right.\\n\")\n",
    "if direction == \"L\":\n",
    "  action = input(\"Drink super potion or wait? Type D for Drink or W for wait.\\n\")\n",
    "else: \n",
    "  print(\"You run into Chang who accidentally tases you. You die. Game over.\")\n",
    "  exit()\n",
    "if action == \"W\":\n",
    "    door = input(\"Which door would you like to go through? Type R for Red, B for Blue or Y for Yellow.\\n\")\n",
    "else: \n",
    "  print(\"The potion was actually poisoned by Pierce. You drink it and die. Game over.\")\n",
    "  exit()\n",
    "if door == \"R\":\n",
    "  print(\"Blorgons are behind the door. You don't have the quantum spanner. You die. Game over.\")\n",
    "  exit()\n",
    "elif door == \"B\":\n",
    "  print(\"Kickpuncher is behind the blue door. Your punches and kicks are of no match to his. You die. Game over.\")\n",
    "  exit()\n",
    "elif door == \"Y\":\n",
    "  print(\"You have found the white crystal. You have the throne of Hawkthorne! You Win!\")  \n",
    "else:\n",
    "  print(\"You have chosen a door that doesn't exist. Game over.\")\n",
    "\n",
    "#We use a series of if and elif statements to determine the game sequence based on the choice a player makes. \n",
    "#There is also a possibility of the user entering a command that they are not asked for. In that case, the game would be over."
   ]
  }
 ],
 "metadata": {
  "kernelspec": {
   "display_name": "Python 3 (ipykernel)",
   "language": "python",
   "name": "python3"
  },
  "language_info": {
   "codemirror_mode": {
    "name": "ipython",
    "version": 3
   },
   "file_extension": ".py",
   "mimetype": "text/x-python",
   "name": "python",
   "nbconvert_exporter": "python",
   "pygments_lexer": "ipython3",
   "version": "3.9.12"
  }
 },
 "nbformat": 4,
 "nbformat_minor": 5
}
